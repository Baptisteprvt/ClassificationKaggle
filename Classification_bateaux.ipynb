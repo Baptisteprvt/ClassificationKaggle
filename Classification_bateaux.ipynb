{
 "cells": [
  {
   "cell_type": "markdown",
   "id": "a1010636",
   "metadata": {
    "papermill": {
     "duration": 0.005517,
     "end_time": "2024-06-02T20:31:14.280273",
     "exception": false,
     "start_time": "2024-06-02T20:31:14.274756",
     "status": "completed"
    },
    "tags": []
   },
   "source": [
    "## Authors\n",
    "Baptiste PREVOT (baptiste.prevot)\n",
    "\n",
    "Gabriel BARDINET (gabriel.bardinet)"
   ]
  },
  {
   "cell_type": "code",
   "execution_count": 1,
   "id": "358a1f75",
   "metadata": {
    "_cell_guid": "b1076dfc-b9ad-4769-8c92-a6c4dae69d19",
    "_uuid": "8f2839f25d086af736a60e9eeb907d3b93b6e0e5",
    "execution": {
     "iopub.execute_input": "2024-06-02T20:31:14.293600Z",
     "iopub.status.busy": "2024-06-02T20:31:14.292392Z",
     "iopub.status.idle": "2024-06-02T20:31:43.352239Z",
     "shell.execute_reply": "2024-06-02T20:31:43.350958Z"
    },
    "papermill": {
     "duration": 29.069076,
     "end_time": "2024-06-02T20:31:43.354861",
     "exception": false,
     "start_time": "2024-06-02T20:31:14.285785",
     "status": "completed"
    },
    "tags": []
   },
   "outputs": [
    {
     "name": "stderr",
     "output_type": "stream",
     "text": [
      "2024-06-02 20:31:18.995708: E external/local_xla/xla/stream_executor/cuda/cuda_dnn.cc:9261] Unable to register cuDNN factory: Attempting to register factory for plugin cuDNN when one has already been registered\n",
      "2024-06-02 20:31:18.995878: E external/local_xla/xla/stream_executor/cuda/cuda_fft.cc:607] Unable to register cuFFT factory: Attempting to register factory for plugin cuFFT when one has already been registered\n",
      "2024-06-02 20:31:19.236216: E external/local_xla/xla/stream_executor/cuda/cuda_blas.cc:1515] Unable to register cuBLAS factory: Attempting to register factory for plugin cuBLAS when one has already been registered\n"
     ]
    },
    {
     "name": "stdout",
     "output_type": "stream",
     "text": [
      "/kaggle/input/navires-2024-fait-main/ships24.tgz\n",
      "__notebook__.ipynb  ships_gray\ttest.npy\r\n"
     ]
    }
   ],
   "source": [
    "import numpy as np # linear algebra\n",
    "import pandas as pd # data processing, CSV file I/O (e.g. pd.read_csv)\n",
    "\n",
    "import tensorflow as tf\n",
    "import matplotlib.pyplot as plt\n",
    "import keras\n",
    "from tensorflow.keras import regularizers\n",
    "from keras.models import Sequential\n",
    "from keras.layers import Conv2D, MaxPooling2D, Flatten, Dense, Dropout, BatchNormalization, Activation, AveragePooling2D, GlobalAveragePooling2D, Rescaling\n",
    "from keras.optimizers import Adam\n",
    "from keras.regularizers import l2 \n",
    "from tensorflow.keras.optimizers import AdamW\n",
    "\n",
    "from tensorflow.keras.callbacks import ReduceLROnPlateau, EarlyStopping, ModelCheckpoint\n",
    "from tensorflow.keras.losses import CategoricalCrossentropy\n",
    "from sklearn.model_selection import train_test_split\n",
    "import shutil\n",
    "from keras.optimizers import SGD\n",
    "\n",
    "# Input data files are available in the read-only \"../input/\" directory\n",
    "# For example, running this (by clicking run or pressing Shift+Enter) will list all files under the input directory\n",
    "\n",
    "import os\n",
    "for dirname, _, filenames in os.walk('/kaggle/input'):\n",
    "    for filename in filenames:\n",
    "        print(os.path.join(dirname, filename))\n",
    "\n",
    "# You can write up to 20GB to the current directory (/kaggle/working/) that gets preserved as output when you create a version using \"Save & Run All\" \n",
    "# You can also write temporary files to /kaggle/temp/, but they won't be saved outside of the current session\n",
    "\n",
    "!tar xzf /kaggle/input/navires-2024-fait-main/ships24.tgz\n",
    "\n",
    "!ls /kaggle/working \n",
    "\n",
    "#Hyper Parameters\n",
    "\n",
    "\n",
    "# Exemple d'utilisation avec un dossier \"images\" contenant les sous-dossiers et les images\n",
    "root_directory = \"/kaggle/working/ships_gray\"\n"
   ]
  },
  {
   "cell_type": "markdown",
   "id": "070f57a8",
   "metadata": {
    "papermill": {
     "duration": 0.00542,
     "end_time": "2024-06-02T20:31:43.366074",
     "exception": false,
     "start_time": "2024-06-02T20:31:43.360654",
     "status": "completed"
    },
    "tags": []
   },
   "source": [
    "## Hyper Parameters"
   ]
  },
  {
   "cell_type": "code",
   "execution_count": 2,
   "id": "9fffef23",
   "metadata": {
    "execution": {
     "iopub.execute_input": "2024-06-02T20:31:43.380167Z",
     "iopub.status.busy": "2024-06-02T20:31:43.378528Z",
     "iopub.status.idle": "2024-06-02T20:31:43.385187Z",
     "shell.execute_reply": "2024-06-02T20:31:43.384262Z"
    },
    "papermill": {
     "duration": 0.015827,
     "end_time": "2024-06-02T20:31:43.387243",
     "exception": false,
     "start_time": "2024-06-02T20:31:43.371416",
     "status": "completed"
    },
    "tags": []
   },
   "outputs": [],
   "source": [
    "IMG_WIDTH = 192\n",
    "IMG_HEIGHT = 128\n",
    "IMG_DIM2 = (IMG_HEIGHT, IMG_WIDTH)\n",
    "IMG_DIM3 = (IMG_HEIGHT, IMG_WIDTH, 1)\n",
    "N_CLASSES = 10\n",
    "BATCH_SIZE = 64\n",
    "VALIDATION_SIZE = 0.2"
   ]
  },
  {
   "cell_type": "markdown",
   "id": "f5a2c6eb",
   "metadata": {
    "papermill": {
     "duration": 0.006742,
     "end_time": "2024-06-02T20:31:43.400529",
     "exception": false,
     "start_time": "2024-06-02T20:31:43.393787",
     "status": "completed"
    },
    "tags": []
   },
   "source": [
    "## A way to do data augmentation by hand. It's slower to create but the results are more convincing."
   ]
  },
  {
   "cell_type": "code",
   "execution_count": 3,
   "id": "7637473a",
   "metadata": {
    "execution": {
     "iopub.execute_input": "2024-06-02T20:31:43.415777Z",
     "iopub.status.busy": "2024-06-02T20:31:43.415340Z",
     "iopub.status.idle": "2024-06-02T20:31:43.426198Z",
     "shell.execute_reply": "2024-06-02T20:31:43.424351Z"
    },
    "papermill": {
     "duration": 0.02102,
     "end_time": "2024-06-02T20:31:43.429484",
     "exception": false,
     "start_time": "2024-06-02T20:31:43.408464",
     "status": "completed"
    },
    "tags": []
   },
   "outputs": [],
   "source": [
    "\n",
    "import os\n",
    "from PIL import Image\n",
    "\n",
    "def rotate_images_in_subdirectories(root_directory):\n",
    "    # Parcours des sous-dossiers\n",
    "    print(\"rotate\")\n",
    "    for subdir in os.listdir(root_directory):\n",
    "        subdir_path = os.path.join(root_directory, subdir)\n",
    "        if os.path.isdir(subdir_path):\n",
    "            # Parcours des fichiers dans le sous-dossier\n",
    "            for filename in os.listdir(subdir_path):\n",
    "                file_path = os.path.join(subdir_path, filename)\n",
    "                # Vérification que le fichier est une image\n",
    "                if os.path.isfile(file_path) and filename.lower().endswith(('.png', '.jpg', '.jpeg', '.gif')):\n",
    "                    # Ouverture de l'image\n",
    "                    with Image.open(file_path) as img:\n",
    "                        rotated_img_h = img.transpose(Image.FLIP_LEFT_RIGHT)\n",
    "                        rotated_img_h.save(os.path.join(subdir_path, f\"horizontal_{filename}\"))\n",
    "                        rotated_img_v = img.transpose(Image.FLIP_TOP_BOTTOM)\n",
    "                        rotated_img_v.save(os.path.join(subdir_path, f\"vertical_{filename}\"))\n"
   ]
  },
  {
   "cell_type": "code",
   "execution_count": null,
   "id": "12da9807",
   "metadata": {
    "papermill": {
     "duration": 0.007066,
     "end_time": "2024-06-02T20:31:43.444637",
     "exception": false,
     "start_time": "2024-06-02T20:31:43.437571",
     "status": "completed"
    },
    "tags": []
   },
   "outputs": [],
   "source": []
  },
  {
   "cell_type": "code",
   "execution_count": 4,
   "id": "a9a1bbe2",
   "metadata": {
    "execution": {
     "iopub.execute_input": "2024-06-02T20:31:43.460062Z",
     "iopub.status.busy": "2024-06-02T20:31:43.459306Z",
     "iopub.status.idle": "2024-06-02T20:32:29.986006Z",
     "shell.execute_reply": "2024-06-02T20:32:29.984798Z"
    },
    "papermill": {
     "duration": 46.538154,
     "end_time": "2024-06-02T20:32:29.988709",
     "exception": false,
     "start_time": "2024-06-02T20:31:43.450555",
     "status": "completed"
    },
    "tags": []
   },
   "outputs": [
    {
     "name": "stdout",
     "output_type": "stream",
     "text": [
      "Found 42204 files belonging to 10 classes.\n",
      "Using 8440 files for validation.\n",
      "rotate\n",
      "Found 126612 files belonging to 10 classes.\n",
      "Using 101290 files for training.\n"
     ]
    }
   ],
   "source": [
    "import os\n",
    "import tensorflow as tf\n",
    "val_set = tf.keras.utils.image_dataset_from_directory(\n",
    "    '/kaggle/working/ships_gray',\n",
    "    validation_split=0.2,\n",
    "    subset=\"validation\",\n",
    "    color_mode = 'grayscale',\n",
    "    seed=123,\n",
    "    image_size=IMG_DIM2,\n",
    "    batch_size=BATCH_SIZE\n",
    ")\n",
    "val_batches = tf.data.experimental.cardinality(val_set)\n",
    "test_set = val_set.take((2*val_batches) // 3)\n",
    "val_set = val_set.skip((2*val_batches) // 3)\n",
    "\n",
    "rotate_images_in_subdirectories(root_directory)\n",
    "\n",
    "training_set = tf.keras.utils.image_dataset_from_directory(\n",
    "    '/kaggle/working/ships_gray',\n",
    "    validation_split=0.2,\n",
    "    subset=\"training\",\n",
    "    color_mode = 'grayscale',\n",
    "    seed=123,\n",
    "    image_size=IMG_DIM2,\n",
    "    batch_size=BATCH_SIZE\n",
    ")"
   ]
  },
  {
   "cell_type": "code",
   "execution_count": 5,
   "id": "fa7b78c2",
   "metadata": {
    "execution": {
     "iopub.execute_input": "2024-06-02T20:32:30.003090Z",
     "iopub.status.busy": "2024-06-02T20:32:30.002667Z",
     "iopub.status.idle": "2024-06-02T20:32:30.008567Z",
     "shell.execute_reply": "2024-06-02T20:32:30.007622Z"
    },
    "papermill": {
     "duration": 0.015298,
     "end_time": "2024-06-02T20:32:30.010609",
     "exception": false,
     "start_time": "2024-06-02T20:32:29.995311",
     "status": "completed"
    },
    "tags": []
   },
   "outputs": [],
   "source": [
    "reduce_lr = ReduceLROnPlateau(monitor='val_loss', factor=np.sqrt(0.1), patience=5)\n",
    "early_stopping = EarlyStopping(monitor='val_accuracy', mode='max', patience=10, restore_best_weights=True)\n",
    "checkpoint = ModelCheckpoint('best_model.keras', monitor='val_accuracy', mode='max', save_best_only=True, verbose=1)"
   ]
  },
  {
   "cell_type": "code",
   "execution_count": 6,
   "id": "9b3c6fa5",
   "metadata": {
    "execution": {
     "iopub.execute_input": "2024-06-02T20:32:30.024191Z",
     "iopub.status.busy": "2024-06-02T20:32:30.023885Z",
     "iopub.status.idle": "2024-06-02T20:32:30.043798Z",
     "shell.execute_reply": "2024-06-02T20:32:30.042849Z"
    },
    "papermill": {
     "duration": 0.028955,
     "end_time": "2024-06-02T20:32:30.045768",
     "exception": false,
     "start_time": "2024-06-02T20:32:30.016813",
     "status": "completed"
    },
    "tags": []
   },
   "outputs": [],
   "source": [
    "def define_model():\n",
    "    model = Sequential()\n",
    "    model.add(Rescaling(1./255, input_shape=IMG_DIM3))\n",
    "    model.add(Conv2D(32, (3, 3), activation='relu', kernel_initializer='he_uniform', padding='same', input_shape=IMG_DIM3))\n",
    "    model.add(Conv2D(32, (3, 3), activation='relu', kernel_initializer='he_uniform', padding='same'))\n",
    "    model.add(BatchNormalization())\n",
    "    model.add(MaxPooling2D((2, 2)))\n",
    "    model.add(Dropout(0.2))\n",
    "    model.add(Conv2D(64, (3, 3), activation='relu', kernel_initializer='he_uniform', padding='same'))\n",
    "    model.add(BatchNormalization())\n",
    "    model.add(Conv2D(64, (3, 3), activation='relu', kernel_initializer='he_uniform', padding='same'))\n",
    "    model.add(BatchNormalization())\n",
    "    model.add(MaxPooling2D((2, 2)))\n",
    "    model.add(Dropout(0.3))\n",
    "    model.add(Conv2D(128, (3, 3), activation='relu', kernel_initializer='he_uniform', padding='same'))\n",
    "    model.add(BatchNormalization())\n",
    "    model.add(Conv2D(128, (3, 3), activation='relu', kernel_initializer='he_uniform', padding='same'))\n",
    "    model.add(BatchNormalization())\n",
    "    model.add(MaxPooling2D((2, 2)))\n",
    "    model.add(Dropout(0.4))\n",
    "    model.add(Conv2D(256, (3, 3), activation='relu', kernel_initializer='he_uniform', padding='same'))\n",
    "    model.add(BatchNormalization())\n",
    "    model.add(Conv2D(256, (3, 3), activation='relu', kernel_initializer='he_uniform', padding='same'))\n",
    "    model.add(BatchNormalization())\n",
    "    model.add(MaxPooling2D((2, 2)))\n",
    "    model.add(Dropout(0.5))\n",
    "    model.add(Flatten())\n",
    "    model.add(Dense(128, activation='relu', kernel_initializer='he_uniform'))\n",
    "    model.add(BatchNormalization())\n",
    "    model.add(Dropout(0.5))\n",
    "    model.add(Dense(N_CLASSES, activation='softmax'))\n",
    "    # compile model\n",
    "    optimizer = Adam(learning_rate=0.001)\n",
    "    model.compile(optimizer=optimizer, loss='sparse_categorical_crossentropy', metrics=['accuracy'])\n",
    "    return model"
   ]
  },
  {
   "cell_type": "markdown",
   "id": "49daaf8c",
   "metadata": {
    "papermill": {
     "duration": 0.005757,
     "end_time": "2024-06-02T20:32:30.057522",
     "exception": false,
     "start_time": "2024-06-02T20:32:30.051765",
     "status": "completed"
    },
    "tags": []
   },
   "source": [
    "**Load Dataset**"
   ]
  },
  {
   "cell_type": "markdown",
   "id": "3a36fb0a",
   "metadata": {
    "papermill": {
     "duration": 0.006521,
     "end_time": "2024-06-02T20:32:30.071090",
     "exception": false,
     "start_time": "2024-06-02T20:32:30.064569",
     "status": "completed"
    },
    "tags": []
   },
   "source": [
    "## Choose between loading an existing model or creating a new one"
   ]
  },
  {
   "cell_type": "code",
   "execution_count": 7,
   "id": "e93fd03a",
   "metadata": {
    "execution": {
     "iopub.execute_input": "2024-06-02T20:32:30.085782Z",
     "iopub.status.busy": "2024-06-02T20:32:30.084973Z",
     "iopub.status.idle": "2024-06-02T20:32:30.640229Z",
     "shell.execute_reply": "2024-06-02T20:32:30.639187Z"
    },
    "papermill": {
     "duration": 0.565366,
     "end_time": "2024-06-02T20:32:30.642928",
     "exception": false,
     "start_time": "2024-06-02T20:32:30.077562",
     "status": "completed"
    },
    "tags": []
   },
   "outputs": [
    {
     "name": "stderr",
     "output_type": "stream",
     "text": [
      "/opt/conda/lib/python3.10/site-packages/keras/src/layers/preprocessing/tf_data_layer.py:18: UserWarning: Do not pass an `input_shape`/`input_dim` argument to a layer. When using Sequential models, prefer using an `Input(shape)` object as the first layer in the model instead.\n",
      "  super().__init__(**kwargs)\n",
      "/opt/conda/lib/python3.10/site-packages/keras/src/layers/convolutional/base_conv.py:99: UserWarning: Do not pass an `input_shape`/`input_dim` argument to a layer. When using Sequential models, prefer using an `Input(shape)` object as the first layer in the model instead.\n",
      "  super().__init__(\n"
     ]
    }
   ],
   "source": [
    "try:\n",
    "    model = tf.keras.models.load_model('/kaggle/working/best_model.keras')\n",
    "except:\n",
    "    model = define_model()"
   ]
  },
  {
   "cell_type": "markdown",
   "id": "cbc3c34a",
   "metadata": {
    "papermill": {
     "duration": 0.006308,
     "end_time": "2024-06-02T20:32:30.655855",
     "exception": false,
     "start_time": "2024-06-02T20:32:30.649547",
     "status": "completed"
    },
    "tags": []
   },
   "source": [
    "## Training the model"
   ]
  },
  {
   "cell_type": "code",
   "execution_count": 8,
   "id": "59df15ea",
   "metadata": {
    "execution": {
     "iopub.execute_input": "2024-06-02T20:32:30.671300Z",
     "iopub.status.busy": "2024-06-02T20:32:30.670382Z",
     "iopub.status.idle": "2024-06-02T20:37:31.439196Z",
     "shell.execute_reply": "2024-06-02T20:37:31.438240Z"
    },
    "papermill": {
     "duration": 300.778718,
     "end_time": "2024-06-02T20:37:31.441279",
     "exception": false,
     "start_time": "2024-06-02T20:32:30.662561",
     "status": "completed"
    },
    "tags": []
   },
   "outputs": [
    {
     "name": "stderr",
     "output_type": "stream",
     "text": [
      "WARNING: All log messages before absl::InitializeLog() is called are written to STDERR\n",
      "I0000 00:00:1717360395.961460      83 device_compiler.h:186] Compiled cluster using XLA!  This line is logged at most once for the lifetime of the process.\n",
      "W0000 00:00:1717360395.990454      83 graph_launch.cc:671] Fallback to op-by-op mode because memset node breaks graph update\n"
     ]
    },
    {
     "name": "stdout",
     "output_type": "stream",
     "text": [
      "\u001b[1m1583/1583\u001b[0m \u001b[32m━━━━━━━━━━━━━━━━━━━━\u001b[0m\u001b[37m\u001b[0m \u001b[1m0s\u001b[0m 152ms/step - accuracy: 0.5155 - loss: 1.4617"
     ]
    },
    {
     "name": "stderr",
     "output_type": "stream",
     "text": [
      "W0000 00:00:1717360637.167634      84 graph_launch.cc:671] Fallback to op-by-op mode because memset node breaks graph update\n",
      "W0000 00:00:1717360639.131957      85 graph_launch.cc:671] Fallback to op-by-op mode because memset node breaks graph update\n"
     ]
    },
    {
     "name": "stdout",
     "output_type": "stream",
     "text": [
      "\n",
      "Epoch 1: val_accuracy improved from -inf to 0.66026, saving model to best_model.keras\n"
     ]
    },
    {
     "name": "stderr",
     "output_type": "stream",
     "text": [
      "W0000 00:00:1717360651.013669      83 graph_launch.cc:671] Fallback to op-by-op mode because memset node breaks graph update\n"
     ]
    },
    {
     "name": "stdout",
     "output_type": "stream",
     "text": [
      "\u001b[1m1583/1583\u001b[0m \u001b[32m━━━━━━━━━━━━━━━━━━━━\u001b[0m\u001b[37m\u001b[0m \u001b[1m301s\u001b[0m 161ms/step - accuracy: 0.5156 - loss: 1.4614 - val_accuracy: 0.6603 - val_loss: 1.0110 - learning_rate: 0.0010\n"
     ]
    }
   ],
   "source": [
    "history = model.fit(training_set, epochs=1, validation_data=val_set,\n",
    "                       verbose=1,\n",
    "                       batch_size=BATCH_SIZE,\n",
    "                       callbacks=[reduce_lr, early_stopping, checkpoint])"
   ]
  },
  {
   "cell_type": "markdown",
   "id": "784e8ae8",
   "metadata": {
    "papermill": {
     "duration": 0.139168,
     "end_time": "2024-06-02T20:37:31.723136",
     "exception": false,
     "start_time": "2024-06-02T20:37:31.583968",
     "status": "completed"
    },
    "tags": []
   },
   "source": [
    "## Performance and results evaluation"
   ]
  },
  {
   "cell_type": "code",
   "execution_count": 9,
   "id": "17aeb7cb",
   "metadata": {
    "execution": {
     "iopub.execute_input": "2024-06-02T20:37:32.001359Z",
     "iopub.status.busy": "2024-06-02T20:37:32.000950Z",
     "iopub.status.idle": "2024-06-02T20:37:47.643986Z",
     "shell.execute_reply": "2024-06-02T20:37:47.642542Z"
    },
    "papermill": {
     "duration": 15.786312,
     "end_time": "2024-06-02T20:37:47.646546",
     "exception": false,
     "start_time": "2024-06-02T20:37:31.860234",
     "status": "completed"
    },
    "tags": []
   },
   "outputs": [
    {
     "data": {
      "image/png": "[encoded data removed]",
      "text/plain": [
       "<Figure size 1200x800 with 2 Axes>"
      ]
     },
     "metadata": {},
     "output_type": "display_data"
    },
    {
     "name": "stdout",
     "output_type": "stream",
     "text": [
      "\u001b[1m176/176\u001b[0m \u001b[32m━━━━━━━━━━━━━━━━━━━━\u001b[0m\u001b[37m\u001b[0m \u001b[1m10s\u001b[0m 16ms/step\n",
      "Test Accuracy: 0.6857\n"
     ]
    },
    {
     "data": {
      "image/png": "[encoded data removed]",
      "text/plain": [
       "<Figure size 1000x800 with 2 Axes>"
      ]
     },
     "metadata": {},
     "output_type": "display_data"
    },
    {
     "name": "stdout",
     "output_type": "stream",
     "text": [
      "Classification Report:\n",
      "              precision    recall  f1-score   support\n",
      "\n",
      "           0       0.56      0.48      0.52       471\n",
      "           1       1.00      0.57      0.73       926\n",
      "           2       0.54      0.30      0.39       395\n",
      "           3       0.92      0.96      0.94      1003\n",
      "           4       0.78      0.37      0.50       254\n",
      "           5       0.64      0.86      0.73       856\n",
      "           6       0.67      0.74      0.70       477\n",
      "           7       0.37      0.94      0.53       445\n",
      "           8       0.83      0.68      0.75       364\n",
      "           9       0.91      0.40      0.56       441\n",
      "\n",
      "    accuracy                           0.69      5632\n",
      "   macro avg       0.72      0.63      0.63      5632\n",
      "weighted avg       0.76      0.69      0.68      5632\n",
      "\n"
     ]
    }
   ],
   "source": [
    "import matplotlib.pyplot as plt\n",
    "import numpy as np\n",
    "import seaborn as sns\n",
    "from sklearn.metrics import confusion_matrix, classification_report, accuracy_score\n",
    "\n",
    "def summarize_diagnostics(history, model, X_test, y_test):\n",
    "    # Plot loss\n",
    "    plt.figure(figsize=(12, 8))\n",
    "    \n",
    "    plt.subplot(2, 1, 1)\n",
    "    plt.title('Cross Entropy Loss')\n",
    "    plt.plot(history.history['loss'], color='blue', label='train')\n",
    "    plt.plot(history.history['val_loss'], color='orange', label='test')\n",
    "    plt.xlabel('Epochs')\n",
    "    plt.ylabel('Loss')\n",
    "    plt.legend()\n",
    "    \n",
    "    # Plot accuracy\n",
    "    plt.subplot(2, 1, 2)\n",
    "    plt.title('Classification Accuracy')\n",
    "    plt.plot(history.history['accuracy'], color='blue', label='train')\n",
    "    plt.plot(history.history['val_accuracy'], color='orange', label='test')\n",
    "    plt.xlabel('Epochs')\n",
    "    plt.ylabel('Accuracy')\n",
    "    plt.legend()\n",
    "    \n",
    "    plt.tight_layout()\n",
    "    plt.show()\n",
    "\n",
    "    # Model performance score\n",
    "    y_pred = np.argmax(model.predict(X_test), axis=1)\n",
    "    y_true = y_test\n",
    "\n",
    "    test_accuracy = accuracy_score(y_true, y_pred)\n",
    "    print(f'Test Accuracy: {test_accuracy:.4f}')\n",
    "    \n",
    "    # Confusion Matrix\n",
    "    cm = confusion_matrix(y_true, y_pred)\n",
    "    plt.figure(figsize=(10, 8))\n",
    "    sns.heatmap(cm, annot=True, fmt='d', cmap='Blues')\n",
    "    plt.title('Confusion Matrix')\n",
    "    plt.xlabel('Predicted')\n",
    "    plt.ylabel('True')\n",
    "    plt.show()\n",
    "    \n",
    "    # Classification Report\n",
    "    print('Classification Report:')\n",
    "    print(classification_report(y_true, y_pred))\n",
    "    \n",
    "def dataset_to_numpy(dataset):\n",
    "    images = []\n",
    "    labels = []\n",
    "    for image, label in dataset.unbatch().as_numpy_iterator():\n",
    "        images.append(image)\n",
    "        labels.append(label)\n",
    "    return np.array(images), np.array(labels)\n",
    "try:\n",
    "    X_test, y_test = dataset_to_numpy(test_set)\n",
    "    summarize_diagnostics(history, model, X_test, y_test)\n",
    "except:\n",
    "    summarize_diagnostics(history, model, X_test, y_test)"
   ]
  },
  {
   "cell_type": "code",
   "execution_count": 10,
   "id": "02a36d60",
   "metadata": {
    "execution": {
     "iopub.execute_input": "2024-06-02T20:37:47.978662Z",
     "iopub.status.busy": "2024-06-02T20:37:47.977957Z",
     "iopub.status.idle": "2024-06-02T20:37:47.983928Z",
     "shell.execute_reply": "2024-06-02T20:37:47.982986Z"
    },
    "papermill": {
     "duration": 0.168035,
     "end_time": "2024-06-02T20:37:47.986404",
     "exception": false,
     "start_time": "2024-06-02T20:37:47.818369",
     "status": "completed"
    },
    "tags": []
   },
   "outputs": [
    {
     "name": "stdout",
     "output_type": "stream",
     "text": [
      "Nombre de couches :  29\n"
     ]
    }
   ],
   "source": [
    "print(\"Nombre de couches : \", len(model.layers))"
   ]
  },
  {
   "cell_type": "markdown",
   "id": "c866ec7b",
   "metadata": {
    "papermill": {
     "duration": 0.154773,
     "end_time": "2024-06-02T20:37:48.296683",
     "exception": false,
     "start_time": "2024-06-02T20:37:48.141910",
     "status": "completed"
    },
    "tags": []
   },
   "source": [
    "## Prediction on the given test to be submitted"
   ]
  },
  {
   "cell_type": "code",
   "execution_count": 11,
   "id": "d7efb46d",
   "metadata": {
    "execution": {
     "iopub.execute_input": "2024-06-02T20:37:48.608134Z",
     "iopub.status.busy": "2024-06-02T20:37:48.607723Z",
     "iopub.status.idle": "2024-06-02T20:37:56.823259Z",
     "shell.execute_reply": "2024-06-02T20:37:56.822149Z"
    },
    "papermill": {
     "duration": 8.37452,
     "end_time": "2024-06-02T20:37:56.825772",
     "exception": false,
     "start_time": "2024-06-02T20:37:48.451252",
     "status": "completed"
    },
    "tags": []
   },
   "outputs": [
    {
     "name": "stdout",
     "output_type": "stream",
     "text": [
      "\u001b[1m32/32\u001b[0m \u001b[32m━━━━━━━━━━━━━━━━━━━━\u001b[0m\u001b[37m\u001b[0m \u001b[1m7s\u001b[0m 199ms/step\n"
     ]
    },
    {
     "name": "stderr",
     "output_type": "stream",
     "text": [
      "W0000 00:00:1717360675.721546      82 graph_launch.cc:671] Fallback to op-by-op mode because memset node breaks graph update\n"
     ]
    },
    {
     "name": "stdout",
     "output_type": "stream",
     "text": [
      "ID,Category\r\n",
      "0,5\r\n",
      "1,5\r\n",
      "2,5\r\n",
      "3,3\r\n",
      "4,7\r\n",
      "5,8\r\n",
      "6,2\r\n",
      "7,5\r\n",
      "8,7\r\n"
     ]
    }
   ],
   "source": [
    "from keras.preprocessing.image import img_to_array, array_to_img\n",
    "\n",
    "test_set = np.load('/kaggle/working/test.npy', allow_pickle=True)\n",
    "\n",
    "test_set = test_set.reshape(test_set.shape[0], test_set.shape[1], test_set.shape[2], 1)\n",
    "res = model.predict(test_set).argmax(axis=1)\n",
    "df = pd.DataFrame({\"Category\":res})\n",
    "df.to_csv(\"reco_nav.csv\", index_label=\"ID\")\n",
    "import os\n",
    "os.chdir(r'/kaggle/working')\n",
    "from IPython.display import FileLink\n",
    "FileLink(r'reco_nav.csv')\n",
    "!head reco_nav.csv"
   ]
  }
 ],
 "metadata": {
  "kaggle": {
   "accelerator": "nvidiaTeslaT4",
   "dataSources": [
    {
     "databundleVersionId": 8179471,
     "sourceId": 74796,
     "sourceType": "competition"
    }
   ],
   "dockerImageVersionId": 30684,
   "isGpuEnabled": true,
   "isInternetEnabled": true,
   "language": "python",
   "sourceType": "notebook"
  },
  "kernelspec": {
   "display_name": "Python 3",
   "language": "python",
   "name": "python3"
  },
  "language_info": {
   "codemirror_mode": {
    "name": "ipython",
    "version": 3
   },
   "file_extension": ".py",
   "mimetype": "text/x-python",
   "name": "python",
   "nbconvert_exporter": "python",
   "pygments_lexer": "ipython3",
   "version": "3.10.13"
  },
  "papermill": {
   "default_parameters": {},
   "duration": 410.34228,
   "end_time": "2024-06-02T20:38:00.449578",
   "environment_variables": {},
   "exception": null,
   "input_path": "__notebook__.ipynb",
   "output_path": "__notebook__.ipynb",
   "parameters": {},
   "start_time": "2024-06-02T20:31:10.107298",
   "version": "2.5.0"
  }
 },
 "nbformat": 4,
 "nbformat_minor": 5
}
